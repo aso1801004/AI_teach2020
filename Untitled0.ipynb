{
  "nbformat": 4,
  "nbformat_minor": 0,
  "metadata": {
    "colab": {
      "name": "Untitled0.ipynb",
      "provenance": [],
      "authorship_tag": "ABX9TyP65sYV7k3utmVNuZIt1xfG",
      "include_colab_link": true
    },
    "kernelspec": {
      "name": "python3",
      "display_name": "Python 3"
    }
  },
  "cells": [
    {
      "cell_type": "markdown",
      "metadata": {
        "id": "view-in-github",
        "colab_type": "text"
      },
      "source": [
        "<a href=\"https://colab.research.google.com/github/aso1801004/AI_teach2020/blob/master/Untitled0.ipynb\" target=\"_parent\"><img src=\"https://colab.research.google.com/assets/colab-badge.svg\" alt=\"Open In Colab\"/></a>"
      ]
    },
    {
      "cell_type": "markdown",
      "metadata": {
        "id": "1VU_x1QhqeSg",
        "colab_type": "text"
      },
      "source": [
        " ### AND演算をモデルに学ばせる(LinearSVC)}"
      ]
    },
    {
      "cell_type": "code",
      "metadata": {
        "id": "-5wwt8ovqORm",
        "colab_type": "code",
        "colab": {}
      },
      "source": [
        "# scikit-learnを使うため、インポートする\n",
        "from sklearn.svm import LinearSVC # 線形SVCのオブジェクト\n",
        "from sklearn.metrics import accuracy_score # 結果を評価するためのオブジェクト"
      ],
      "execution_count": 18,
      "outputs": []
    },
    {
      "cell_type": "code",
      "metadata": {
        "id": "czJKmOXUqcO-",
        "colab_type": "code",
        "colab": {}
      },
      "source": [
        ""
      ],
      "execution_count": 18,
      "outputs": []
    },
    {
      "cell_type": "markdown",
      "metadata": {
        "id": "w0hGJQhCrttl",
        "colab_type": "text"
      },
      "source": [
        "### 学習のためのデータを使用する"
      ]
    },
    {
      "cell_type": "code",
      "metadata": {
        "id": "1HRqlS8nr-BH",
        "colab_type": "code",
        "colab": {}
      },
      "source": [
        "# 入力値を表すデータ\n",
        "# 入力X,入力Y\n",
        "learn_data = [[0,0],[1,0],[0,1],[1,1]]\n",
        "# (XとYのand)　結果\n",
        "learn_label = [0,0,0,1]"
      ],
      "execution_count": 19,
      "outputs": []
    },
    {
      "cell_type": "markdown",
      "metadata": {
        "id": "y9Y7Mln_s7sa",
        "colab_type": "text"
      },
      "source": [
        "### アルゴリズムのインスタンスを生成"
      ]
    },
    {
      "cell_type": "code",
      "metadata": {
        "id": "0l5INdlaskdB",
        "colab_type": "code",
        "colab": {}
      },
      "source": [
        "### 線形SVCのインスタンスを生成（＝モデル）\n",
        "clf = LinearSVC()"
      ],
      "execution_count": 20,
      "outputs": []
    },
    {
      "cell_type": "markdown",
      "metadata": {
        "id": "qIIxirrgtnXT",
        "colab_type": "text"
      },
      "source": [
        "### モデルに学習させる"
      ]
    },
    {
      "cell_type": "code",
      "metadata": {
        "id": "5v-fiME1tbsW",
        "colab_type": "code",
        "colab": {
          "base_uri": "https://localhost:8080/",
          "height": 90
        },
        "outputId": "115542cf-f75a-4989-cb19-95e992da7636"
      },
      "source": [
        "clf.fit( learn_data, learn_label)"
      ],
      "execution_count": 21,
      "outputs": [
        {
          "output_type": "execute_result",
          "data": {
            "text/plain": [
              "LinearSVC(C=1.0, class_weight=None, dual=True, fit_intercept=True,\n",
              "          intercept_scaling=1, loss='squared_hinge', max_iter=1000,\n",
              "          multi_class='ovr', penalty='l2', random_state=None, tol=0.0001,\n",
              "          verbose=0)"
            ]
          },
          "metadata": {
            "tags": []
          },
          "execution_count": 21
        }
      ]
    },
    {
      "cell_type": "markdown",
      "metadata": {
        "id": "rN2GrsRauYiK",
        "colab_type": "text"
      },
      "source": [
        "### モデルがちゃんと学習できたか、テストデータで、予測させてみる"
      ]
    },
    {
      "cell_type": "code",
      "metadata": {
        "id": "zP4oO3yXt2-c",
        "colab_type": "code",
        "colab": {
          "base_uri": "https://localhost:8080/",
          "height": 72
        },
        "outputId": "0b84d4ce-919f-4368-d730-b3ecf6724869"
      },
      "source": [
        "# 予測用のテストデータ（検証データ）を作る\n",
        "test_data = [[0,0],[1,0],[0,1],[1,1]]\n",
        "# モデルにテストデータを回答させる　（予測）予測のメソッドはpredict\n",
        "test_label = clf.predict( test_data )\n",
        "print(test_label)\n",
        "# 予測結果の評価\n",
        "print(test_data,\"の予測結果\" , test_label)\n",
        "print(\"正解率 = \",accuracy_score([0,0,0,1], test_label))"
      ],
      "execution_count": 24,
      "outputs": [
        {
          "output_type": "stream",
          "text": [
            "[0 0 0 1]\n",
            "[[0, 0], [1, 0], [0, 1], [1, 1]] の予測結果 [0 0 0 1]\n",
            "正解率 =  1.0\n"
          ],
          "name": "stdout"
        }
      ]
    },
    {
      "cell_type": "code",
      "metadata": {
        "id": "wfdVwq1MvhmA",
        "colab_type": "code",
        "colab": {}
      },
      "source": [
        ""
      ],
      "execution_count": null,
      "outputs": []
    }
  ]
}